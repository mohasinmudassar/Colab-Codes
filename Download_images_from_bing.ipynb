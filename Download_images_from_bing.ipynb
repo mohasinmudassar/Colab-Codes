{
  "nbformat": 4,
  "nbformat_minor": 0,
  "metadata": {
    "colab": {
      "name": "Download images from bing.ipynb",
      "provenance": [],
      "collapsed_sections": []
    },
    "kernelspec": {
      "name": "python3",
      "display_name": "Python 3"
    },
    "language_info": {
      "name": "python"
    }
  },
  "cells": [
    {
      "cell_type": "markdown",
      "metadata": {
        "id": "LkbnC0v8f1TA"
      },
      "source": [
        "We can download multiple images from google using following Python code and Bing Browser."
      ]
    },
    {
      "cell_type": "code",
      "metadata": {
        "id": "O6ZfqZeykUTB"
      },
      "source": [
        "#installing bing-image-downloader this library is used to download images in bulk\n",
        "\n",
        "!pip install bing-image-downloader"
      ],
      "execution_count": null,
      "outputs": []
    },
    {
      "cell_type": "code",
      "metadata": {
        "id": "hFGYQF5bkWLN"
      },
      "source": [
        "# Mounting Google Drive. Here we will save our download images.\n",
        "\n",
        "from google.colab import drive\n",
        "drive.mount('/gdrive')"
      ],
      "execution_count": null,
      "outputs": []
    },
    {
      "cell_type": "code",
      "metadata": {
        "id": "ujzpsJy9kYkE"
      },
      "source": [
        "# getting into Google drive Here we will make directory to store Images\n",
        "cd /content/drive/MyDrive/"
      ],
      "execution_count": null,
      "outputs": []
    },
    {
      "cell_type": "code",
      "metadata": {
        "id": "B9lF7NRTkaos"
      },
      "source": [
        "m# making Folder for downloaded images in Google Drive\n",
        "\n",
        "mkdir images-downloaded"
      ],
      "execution_count": null,
      "outputs": []
    },
    {
      "cell_type": "code",
      "metadata": {
        "id": "bkQ8UiAJkdKN"
      },
      "source": [
        "# Main Code\n",
        "\n",
        "from bing_image_downloader import downloader\n",
        "downloader.download(\"images-keyword \" , limit =600 , output_dir = \"folder name\")"
      ],
      "execution_count": null,
      "outputs": []
    }
  ]
}